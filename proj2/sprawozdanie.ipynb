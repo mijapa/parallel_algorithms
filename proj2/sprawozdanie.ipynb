{
 "cells": [
  {
   "cell_type": "markdown",
   "metadata": {
    "collapsed": true,
    "pycharm": {
     "name": "#%% md\n"
    }
   },
   "source": [
    "# Dekompozycja funkcjonalna na przykładzie algorytmu Branch and Bound\n",
    "\n",
    "Floorplan Optimization (VLSI)\n",
    "Tworzone jest drzewo przeszukiwań wszystkich możliwości.\n",
    "\n",
    "Procesy schodzą po drzewie w głąb i liczą jaka powierzchnia zostanie zajęta.\n",
    "\n",
    "Obliczenia w drzewie są organizowane w taki sposób aby powiadamiać zadania które brną w ślepą uliczkę tak,\n",
    "aby podjęły istotne obliczenia.\n",
    "\n",
    "Jeżeli na etapie wchodzenia w poddrzewo otrzymamy wynik większy niż aktualne minimum,\n",
    "to dalsze poszukiwania w tym poddrzewie nie mają sensu. Ta gałąź zostaje obcięta."
   ]
  },
  {
   "cell_type": "markdown",
   "source": [
    "## Metodologia PCAM"
   ],
   "metadata": {
    "collapsed": false,
    "pycharm": {
     "name": "#%% md\n"
    }
   }
  },
  {
   "cell_type": "markdown",
   "source": [
    "### PARTITION\n",
    "Brak oczywistej struktury danych dla której moglibyśmy poprowadzić dekompozycję domenową.\n",
    "Podział funkcjonalny (obliczeń). Każdy proces dostaje jedną ścieżkę do policzenia."
   ],
   "metadata": {
    "collapsed": false,
    "pycharm": {
     "name": "#%% md\n"
    }
   }
  },
  {
   "cell_type": "markdown",
   "source": [
    "### COMMUNICATION\n",
    "Komunikacja służy powiadamianiu. Rozsyłamy do wszystkich lokalne minimum.\n",
    "Można przyjąć różną częstość w miarę upływu czasu."
   ],
   "metadata": {
    "collapsed": false
   }
  },
  {
   "cell_type": "markdown",
   "source": [
    "### AGGLOMERATION\n",
    "Dzielenie drzewa na procesy tylko do pewnej głębokości."
   ],
   "metadata": {
    "collapsed": false
   }
  },
  {
   "cell_type": "markdown",
   "source": [
    "### MAPPING\n",
    "Dynamiczne zarządzane procesami."
   ],
   "metadata": {
    "collapsed": false
   }
  }
 ],
 "metadata": {
  "kernelspec": {
   "display_name": "Python 3",
   "language": "python",
   "name": "python3"
  },
  "language_info": {
   "codemirror_mode": {
    "name": "ipython",
    "version": 2
   },
   "file_extension": ".py",
   "mimetype": "text/x-python",
   "name": "python",
   "nbconvert_exporter": "python",
   "pygments_lexer": "ipython2",
   "version": "2.7.6"
  }
 },
 "nbformat": 4,
 "nbformat_minor": 0
}